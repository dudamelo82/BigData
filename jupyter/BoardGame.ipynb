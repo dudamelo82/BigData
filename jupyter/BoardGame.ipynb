{
 "cells": [
  {
   "cell_type": "code",
   "execution_count": 3,
   "id": "04fc3378-1a8e-43f3-8354-9296c4b61ee0",
   "metadata": {},
   "outputs": [
    {
     "name": "stdout",
     "output_type": "stream",
     "text": [
      "Board: _ _ _ _ _ _ _ _ _ _ _ _ _ _ _ _ _ R _ B\n",
      "Player 1 (Red) at 17, Player 2 (Blue) at 20\n"
     ]
    },
    {
     "data": {
      "image/png": "[encoded data removed]",
      "text/plain": [
       "<Figure size 800x100 with 1 Axes>"
      ]
     },
     "metadata": {},
     "output_type": "display_data"
    },
    {
     "name": "stdout",
     "output_type": "stream",
     "text": [
      "🎉 Player 2 WINS!\n"
     ]
    }
   ],
   "source": [
    "import random\n",
    "import matplotlib.pyplot as plt\n",
    "from IPython.display import clear_output\n",
    "\n",
    "NUM_SQUARES = 20\n",
    "positions = [0, 0]   # Player 1 (red), Player 2 (blue)\n",
    "turn = 0             # 0 = P1, 1 = P2\n",
    "\n",
    "def draw_board():\n",
    "    clear_output(wait=True)\n",
    "    squares = [\"_\"] * NUM_SQUARES\n",
    "    for i, pos in enumerate(positions):\n",
    "        if pos >= NUM_SQUARES: \n",
    "            pos = NUM_SQUARES - 1\n",
    "        squares[pos] = \"R\" if i == 0 else \"B\"\n",
    "    print(\"Board:\", \" \".join(squares))\n",
    "    print(f\"Player 1 (Red) at {positions[0]}, Player 2 (Blue) at {positions[1]}\")\n",
    "\n",
    "    # Plot\n",
    "    plt.figure(figsize=(8,1))\n",
    "    plt.plot([positions[0]], [0], \"ro\", markersize=12, label=\"Red\")\n",
    "    plt.plot([positions[1]], [0], \"bo\", markersize=12, label=\"Blue\")\n",
    "    plt.xlim(-1, NUM_SQUARES)\n",
    "    plt.yticks([])\n",
    "    plt.legend()\n",
    "    plt.show()\n",
    "\n",
    "while max(positions) < NUM_SQUARES - 1:\n",
    "    input(f\"\\nPlayer {turn+1}'s turn. Press Enter to roll dice...\")\n",
    "    roll = random.randint(1,6)\n",
    "    print(f\"Player {turn+1} rolled a {roll}\")\n",
    "    positions[turn] += roll\n",
    "    draw_board()\n",
    "\n",
    "    if positions[turn] >= NUM_SQUARES - 1:\n",
    "        print(f\"🎉 Player {turn+1} WINS!\")\n",
    "        break\n",
    "\n",
    "    turn = 1 - turn\n",
    "\n",
    "\n"
   ]
  },
  {
   "cell_type": "code",
   "execution_count": null,
   "id": "bb3d533d-655d-42bd-861b-038c3f79b47e",
   "metadata": {},
   "outputs": [],
   "source": []
  }
 ],
 "metadata": {
  "kernelspec": {
   "display_name": "Python 3 (ipykernel)",
   "language": "python",
   "name": "python3"
  },
  "language_info": {
   "codemirror_mode": {
    "name": "ipython",
    "version": 3
   },
   "file_extension": ".py",
   "mimetype": "text/x-python",
   "name": "python",
   "nbconvert_exporter": "python",
   "pygments_lexer": "ipython3",
   "version": "3.11.6"
  }
 },
 "nbformat": 4,
 "nbformat_minor": 5
}
